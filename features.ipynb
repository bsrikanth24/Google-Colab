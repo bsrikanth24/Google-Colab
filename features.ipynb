{
  "nbformat": 4,
  "nbformat_minor": 0,
  "metadata": {
    "colab": {
      "provenance": [],
      "authorship_tag": "ABX9TyMxOgTpxOF3PJpxNphKb7YN",
      "include_colab_link": true
    },
    "kernelspec": {
      "name": "python3",
      "display_name": "Python 3"
    },
    "language_info": {
      "name": "python"
    }
  },
  "cells": [
    {
      "cell_type": "markdown",
      "metadata": {
        "id": "view-in-github",
        "colab_type": "text"
      },
      "source": [
        "<a href=\"https://colab.research.google.com/github/bsrikanth24/Google-Colab/blob/main/features.ipynb\" target=\"_parent\"><img src=\"https://colab.research.google.com/assets/colab-badge.svg\" alt=\"Open In Colab\"/></a>"
      ]
    },
    {
      "cell_type": "code",
      "execution_count": 1,
      "metadata": {
        "colab": {
          "base_uri": "https://localhost:8080/"
        },
        "id": "vlppTVeXV2eI",
        "outputId": "1c239df3-8439-491a-e662-6f20cc3cd321"
      },
      "outputs": [
        {
          "output_type": "stream",
          "name": "stdout",
          "text": [
            "find: ‘pyspark’: No such file or directory\n"
          ]
        }
      ],
      "source": [
        "!find pyspark"
      ]
    },
    {
      "cell_type": "code",
      "source": [
        "!pip -q install pyspark"
      ],
      "metadata": {
        "colab": {
          "base_uri": "https://localhost:8080/"
        },
        "id": "VJpaYdAQWAq5",
        "outputId": "3f37d6fa-dc44-4798-c8ae-47fa11a5d30f"
      },
      "execution_count": 2,
      "outputs": [
        {
          "output_type": "stream",
          "name": "stdout",
          "text": [
            "\u001b[2K     \u001b[90m━━━━━━━━━━━━━━━━━━━━━━━━━━━━━━━━━━━━━━━━\u001b[0m \u001b[32m317.3/317.3 MB\u001b[0m \u001b[31m4.8 MB/s\u001b[0m eta \u001b[36m0:00:00\u001b[0m\n",
            "\u001b[?25h  Preparing metadata (setup.py) ... \u001b[?25l\u001b[?25hdone\n",
            "  Building wheel for pyspark (setup.py) ... \u001b[?25l\u001b[?25hdone\n"
          ]
        }
      ]
    },
    {
      "cell_type": "code",
      "source": [
        "from pyspark.sql import functions as F, SparkSession"
      ],
      "metadata": {
        "id": "sMm_1k5AWjxr"
      },
      "execution_count": 3,
      "outputs": []
    },
    {
      "cell_type": "code",
      "source": [
        "from pyspark.context import SparkContext\n",
        "#from pyspark.sql.session import SparkSession\n",
        "sc = SparkContext('local')\n",
        "spark = SparkSession(sc)"
      ],
      "metadata": {
        "id": "JBW-QhjiXCB9"
      },
      "execution_count": 5,
      "outputs": []
    },
    {
      "cell_type": "code",
      "source": [
        "# this conf ref: https://sparkbyexamples.com/spark/spark-stop-info-and-debug-logging-console/\n",
        "spark.sparkContext.setLogLevel(\"ERROR\")"
      ],
      "metadata": {
        "id": "UAwhYG82XLwO"
      },
      "execution_count": 6,
      "outputs": []
    },
    {
      "cell_type": "code",
      "source": [
        "# create sample data\n",
        "print(\"[INFO] Sample data\\n\")\n",
        "\n",
        "data = [\n",
        "    {\n",
        "\t    \"client.id\": \"1\",\n",
        "\t    \"client.name\": \"Pepsico\"\n",
        "    },\n",
        "    {\n",
        "\t    \"client.id\": \"2\",\n",
        "\t    \"client.name\": \"Wells Fargo\"\n",
        "    }\n",
        "]\n",
        "\n",
        "dataframe = spark.createDataFrame(data)\n",
        "dataframe.show()"
      ],
      "metadata": {
        "colab": {
          "base_uri": "https://localhost:8080/"
        },
        "id": "4n_rBCEsXOaU",
        "outputId": "7128d068-d895-444f-eceb-963da2039c43"
      },
      "execution_count": 7,
      "outputs": [
        {
          "output_type": "stream",
          "name": "stdout",
          "text": [
            "[INFO] Sample data\n",
            "\n",
            "+---------+-----------+\n",
            "|client.id|client.name|\n",
            "+---------+-----------+\n",
            "|        1|    Pepsico|\n",
            "|        2|Wells Fargo|\n",
            "+---------+-----------+\n",
            "\n"
          ]
        }
      ]
    },
    {
      "cell_type": "code",
      "source": [
        "# withColumns feature\n",
        "print(\"[INFO] Add multiple columns: withColumns (new in release 3.3.0)\\n\")\n",
        "\n",
        "new_columns = {\n",
        "    \"client.country\": F.lit(\"USA\"),\n",
        "    \"client.job\": F.lit(\"Data Engineer\")\n",
        "}\n",
        "\n",
        "print(\"[INFO] new_columns dict:\\n\", new_columns, \"\\n\")\n",
        "\n",
        "dataframe = dataframe.withColumns(new_columns)\n",
        "dataframe.show()"
      ],
      "metadata": {
        "colab": {
          "base_uri": "https://localhost:8080/"
        },
        "id": "DIoiPK4vXdv-",
        "outputId": "9ae2ae66-dee7-406c-ee86-22298a9ff960"
      },
      "execution_count": 8,
      "outputs": [
        {
          "output_type": "stream",
          "name": "stdout",
          "text": [
            "[INFO] Add multiple columns: withColumns (new in release 3.3.0)\n",
            "\n",
            "[INFO] new_columns dict:\n",
            " {'client.country': Column<'USA'>, 'client.job': Column<'Data Engineer'>} \n",
            "\n",
            "+---------+-----------+--------------+-------------+\n",
            "|client.id|client.name|client.country|   client.job|\n",
            "+---------+-----------+--------------+-------------+\n",
            "|        1|    Pepsico|           USA|Data Engineer|\n",
            "|        2|Wells Fargo|           USA|Data Engineer|\n",
            "+---------+-----------+--------------+-------------+\n",
            "\n"
          ]
        }
      ]
    },
    {
      "cell_type": "code",
      "source": [
        "# withColumnsRenamed feature\n",
        "print(\"[INFO] Rename multiple columns: withColumnsRenamed (new in release 3.4.0)\\n\")\n",
        "\n",
        "columns_renamed = {column: column.replace(\".\", \"_\") for column in dataframe.columns}\n",
        "\n",
        "print(\"[INFO] columns_renamed dict\\n\", columns_renamed, \"\\n\")\n",
        "\n",
        "dataframe = dataframe.withColumnsRenamed(columns_renamed)\n",
        "dataframe.show()\n",
        "\n",
        "# isEmpty feature\n",
        "print(\"[INFO] Empty dataframe check: dataframe.isEmpty() (new in release 3.3.0)\\n\")\n",
        "print(\"dataframe is empty?\\n\", dataframe.isEmpty())"
      ],
      "metadata": {
        "colab": {
          "base_uri": "https://localhost:8080/"
        },
        "id": "mAh0GKwJXpef",
        "outputId": "acc5aa83-91d3-4b1b-910e-95d5a5d182e4"
      },
      "execution_count": 9,
      "outputs": [
        {
          "output_type": "stream",
          "name": "stdout",
          "text": [
            "[INFO] Rename multiple columns: withColumnsRenamed (new in release 3.4.0)\n",
            "\n",
            "[INFO] columns_renamed dict\n",
            " {'client.id': 'client_id', 'client.name': 'client_name', 'client.country': 'client_country', 'client.job': 'client_job'} \n",
            "\n",
            "+---------+-----------+--------------+-------------+\n",
            "|client_id|client_name|client_country|   client_job|\n",
            "+---------+-----------+--------------+-------------+\n",
            "|        1|    Pepsico|           USA|Data Engineer|\n",
            "|        2|Wells Fargo|           USA|Data Engineer|\n",
            "+---------+-----------+--------------+-------------+\n",
            "\n",
            "[INFO] Empty dataframe check: dataframe.isEmpty() (new in release 3.3.0)\n",
            "\n",
            "dataframe is empty?\n",
            " False\n"
          ]
        }
      ]
    }
  ]
}